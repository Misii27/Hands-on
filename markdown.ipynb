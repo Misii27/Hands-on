{
 "cells": [
  {
   "cell_type": "markdown",
   "id": "d2956731-a9f9-4dd7-b323-211c3042154b",
   "metadata": {},
   "source": [
    "# My Jupter Notebook on IBM Watson Studio"
   ]
  },
  {
   "cell_type": "markdown",
   "id": "a60888c3-5ac1-4277-9138-22f68184ffd3",
   "metadata": {},
   "source": [
    "Ifeoluwa Olugbade -Data Science Enthusiast"
   ]
  },
  {
   "cell_type": "markdown",
   "id": "dd3fc25a-701c-4ace-8af2-c27efd17444b",
   "metadata": {},
   "source": [
    "I am interested in data science because i love making insights with data"
   ]
  },
  {
   "cell_type": "markdown",
   "id": "ddf3b7e6-9d5d-4683-be6f-1e11e0b6e771",
   "metadata": {},
   "source": [
    "### My code will calculate the floor division of two numbers"
   ]
  },
  {
   "cell_type": "code",
   "execution_count": 1,
   "id": "8cc1d51c-781e-43a0-9858-d08a97588d21",
   "metadata": {},
   "outputs": [
    {
     "data": {
      "text/plain": [
       "23"
      ]
     },
     "execution_count": 1,
     "metadata": {},
     "output_type": "execute_result"
    }
   ],
   "source": [
    "71 // 3"
   ]
  },
  {
   "cell_type": "code",
   "execution_count": null,
   "id": "c983007f-d45e-400d-9f65-53ceef56233c",
   "metadata": {},
   "outputs": [],
   "source": []
  }
 ],
 "metadata": {
  "kernelspec": {
   "display_name": "Python",
   "language": "python",
   "name": "conda-env-python-py"
  },
  "language_info": {
   "codemirror_mode": {
    "name": "ipython",
    "version": 3
   },
   "file_extension": ".py",
   "mimetype": "text/x-python",
   "name": "python",
   "nbconvert_exporter": "python",
   "pygments_lexer": "ipython3",
   "version": "3.7.12"
  }
 },
 "nbformat": 4,
 "nbformat_minor": 5
}
